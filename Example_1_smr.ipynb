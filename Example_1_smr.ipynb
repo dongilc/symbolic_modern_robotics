{
 "cells": [
  {
   "cell_type": "code",
   "execution_count": 1,
   "metadata": {},
   "outputs": [],
   "source": [
    "import symbolic_modern_robotics as smr\n",
    "import sympy as s\n",
    "s.init_printing()"
   ]
  },
  {
   "cell_type": "code",
   "execution_count": 2,
   "metadata": {},
   "outputs": [
    {
     "data": {
      "text/latex": [
       "$\\displaystyle \\left[\\begin{matrix}0\\\\0\\\\\\frac{\\pi}{4}\\end{matrix}\\right]$"
      ],
      "text/plain": [
       "⎡0⎤\n",
       "⎢ ⎥\n",
       "⎢0⎥\n",
       "⎢ ⎥\n",
       "⎢π⎥\n",
       "⎢─⎥\n",
       "⎣4⎦"
      ]
     },
     "execution_count": 2,
     "metadata": {},
     "output_type": "execute_result"
    }
   ],
   "source": [
    "# unit rotation axis\n",
    "omega_hat = s.Matrix([[0],[0],[1]]) \n",
    "theta = s.pi/4 \n",
    "# 3-vector form  of angular velocity\n",
    "omega = omega_hat*theta \n",
    "omega"
   ]
  },
  {
   "cell_type": "code",
   "execution_count": 3,
   "metadata": {},
   "outputs": [
    {
     "data": {
      "text/latex": [
       "$\\displaystyle \\left( \\left[\\begin{matrix}0\\\\0\\\\1\\end{matrix}\\right], \\  \\frac{\\pi}{4}\\right)$"
      ],
      "text/plain": [
       "⎛⎡0⎤   ⎞\n",
       "⎜⎢ ⎥  π⎟\n",
       "⎜⎢0⎥, ─⎟\n",
       "⎜⎢ ⎥  4⎟\n",
       "⎝⎣1⎦   ⎠"
      ]
     },
     "execution_count": 3,
     "metadata": {},
     "output_type": "execute_result"
    }
   ],
   "source": [
    "# get Unit axis of Rotation and theta from 3-vector of exponential coordinates \n",
    "smr.AxisAng3(omega) "
   ]
  },
  {
   "cell_type": "code",
   "execution_count": 4,
   "metadata": {},
   "outputs": [
    {
     "data": {
      "text/latex": [
       "$\\displaystyle \\left[\\begin{matrix}0 & - \\frac{\\pi}{4} & 0\\\\\\frac{\\pi}{4} & 0 & 0\\\\0 & 0 & 0\\end{matrix}\\right]$"
      ],
      "text/plain": [
       "⎡   -π    ⎤\n",
       "⎢0  ───  0⎥\n",
       "⎢    4    ⎥\n",
       "⎢         ⎥\n",
       "⎢π        ⎥\n",
       "⎢─   0   0⎥\n",
       "⎢4        ⎥\n",
       "⎢         ⎥\n",
       "⎣0   0   0⎦"
      ]
     },
     "execution_count": 4,
     "metadata": {},
     "output_type": "execute_result"
    }
   ],
   "source": [
    "# get so3(skew-symmetric matrix) from 3-vector of exponential coordinates \n",
    "so3 = smr.VecToso3(omega)\n",
    "so3"
   ]
  },
  {
   "cell_type": "code",
   "execution_count": 5,
   "metadata": {},
   "outputs": [
    {
     "data": {
      "text/latex": [
       "$\\displaystyle \\left[\\begin{matrix}0\\\\0\\\\\\frac{\\pi}{4}\\end{matrix}\\right]$"
      ],
      "text/plain": [
       "⎡0⎤\n",
       "⎢ ⎥\n",
       "⎢0⎥\n",
       "⎢ ⎥\n",
       "⎢π⎥\n",
       "⎢─⎥\n",
       "⎣4⎦"
      ]
     },
     "execution_count": 5,
     "metadata": {},
     "output_type": "execute_result"
    }
   ],
   "source": [
    "# get 3-vector of exponential coordinates from so3(skew-symmetric matrix)\n",
    "omega = smr.so3ToVec(so3)\n",
    "omega"
   ]
  },
  {
   "cell_type": "code",
   "execution_count": 6,
   "metadata": {},
   "outputs": [
    {
     "data": {
      "text/latex": [
       "$\\displaystyle \\left[\\begin{matrix}\\frac{\\sqrt{2}}{2} & - \\frac{\\sqrt{2}}{2} & 0\\\\\\frac{\\sqrt{2}}{2} & \\frac{\\sqrt{2}}{2} & 0\\\\0 & 0 & 1\\end{matrix}\\right]$"
      ],
      "text/plain": [
       "⎡√2  -√2    ⎤\n",
       "⎢──  ────  0⎥\n",
       "⎢2    2     ⎥\n",
       "⎢           ⎥\n",
       "⎢√2   √2    ⎥\n",
       "⎢──   ──   0⎥\n",
       "⎢2    2     ⎥\n",
       "⎢           ⎥\n",
       "⎣0    0    1⎦"
      ]
     },
     "execution_count": 6,
     "metadata": {},
     "output_type": "execute_result"
    }
   ],
   "source": [
    "# get SO3(Rotation matrix) from so3(skew-symmetric matrix)\n",
    "R = smr.MatrixExp3(so3)\n",
    "R"
   ]
  },
  {
   "cell_type": "code",
   "execution_count": 7,
   "metadata": {},
   "outputs": [
    {
     "data": {
      "text/latex": [
       "$\\displaystyle \\left[\\begin{matrix}0 & - \\frac{\\pi}{4} & 0\\\\\\frac{\\pi}{4} & 0 & 0\\\\0 & 0 & 0\\end{matrix}\\right]$"
      ],
      "text/plain": [
       "⎡   -π    ⎤\n",
       "⎢0  ───  0⎥\n",
       "⎢    4    ⎥\n",
       "⎢         ⎥\n",
       "⎢π        ⎥\n",
       "⎢─   0   0⎥\n",
       "⎢4        ⎥\n",
       "⎢         ⎥\n",
       "⎣0   0   0⎦"
      ]
     },
     "execution_count": 7,
     "metadata": {},
     "output_type": "execute_result"
    }
   ],
   "source": [
    "# get so3(skew-symmetric matrix) from SO3(Rotation matrix)\n",
    "so3 = smr.MatrixLog3(R)\n",
    "so3"
   ]
  },
  {
   "cell_type": "code",
   "execution_count": 8,
   "metadata": {},
   "outputs": [
    {
     "data": {
      "text/latex": [
       "$\\displaystyle \\left[\\begin{matrix}- \\frac{\\pi}{2}\\\\0\\\\0\\end{matrix}\\right]$"
      ],
      "text/plain": [
       "⎡-π ⎤\n",
       "⎢───⎥\n",
       "⎢ 2 ⎥\n",
       "⎢   ⎥\n",
       "⎢ 0 ⎥\n",
       "⎢   ⎥\n",
       "⎣ 0 ⎦"
      ]
     },
     "execution_count": 8,
     "metadata": {},
     "output_type": "execute_result"
    }
   ],
   "source": [
    "R = s.Matrix([[1, 0, 0], \n",
    "              [0, 0, 1], \n",
    "              [0, -1, 0]])\n",
    "smr.so3ToVec(smr.MatrixLog3(R))\n",
    "#smr.AxisAng3(smr.so3ToVec(smr.MatrixLog3(R)))\n"
   ]
  },
  {
   "cell_type": "code",
   "execution_count": 9,
   "metadata": {},
   "outputs": [
    {
     "data": {
      "text/latex": [
       "$\\displaystyle \\left[\\begin{matrix}-1 & 0 & 0\\\\0 & 0 & -1\\\\0 & -1 & 0\\end{matrix}\\right]$"
      ],
      "text/plain": [
       "⎡-1  0   0 ⎤\n",
       "⎢          ⎥\n",
       "⎢0   0   -1⎥\n",
       "⎢          ⎥\n",
       "⎣0   -1  0 ⎦"
      ]
     },
     "execution_count": 9,
     "metadata": {},
     "output_type": "execute_result"
    }
   ],
   "source": [
    "R1 = s.Matrix([[1, 0, 0], \n",
    "              [0, 0, -1], \n",
    "              [0, 1, 0]])\n",
    "\n",
    "R2 = s.Matrix([[-1, 0, 0], \n",
    "              [0, -1, 0], \n",
    "              [0, 0, 1]])\n",
    "\n",
    "R1*R2\n",
    "\n",
    "#smr.so3ToVec(smr.MatrixLog3(R1*R2))\n",
    "\n"
   ]
  },
  {
   "cell_type": "code",
   "execution_count": 10,
   "metadata": {},
   "outputs": [
    {
     "data": {
      "text/latex": [
       "$\\displaystyle \\left[\\begin{matrix}0\\\\0\\\\0\\\\1\\\\2\\\\3\\end{matrix}\\right]$"
      ],
      "text/plain": [
       "⎡0⎤\n",
       "⎢ ⎥\n",
       "⎢0⎥\n",
       "⎢ ⎥\n",
       "⎢0⎥\n",
       "⎢ ⎥\n",
       "⎢1⎥\n",
       "⎢ ⎥\n",
       "⎢2⎥\n",
       "⎢ ⎥\n",
       "⎣3⎦"
      ]
     },
     "execution_count": 10,
     "metadata": {},
     "output_type": "execute_result"
    }
   ],
   "source": [
    "# 6-vector form twist, V \n",
    "V = s.Matrix([0,0,0,1,2,3])\n",
    "V"
   ]
  },
  {
   "cell_type": "code",
   "execution_count": 11,
   "metadata": {},
   "outputs": [
    {
     "data": {
      "text/latex": [
       "$\\displaystyle \\left[\\begin{matrix}0 & 0 & 0 & 1\\\\0 & 0 & 0 & 2\\\\0 & 0 & 0 & 3\\\\0 & 0 & 0 & 0\\end{matrix}\\right]$"
      ],
      "text/plain": [
       "⎡0  0  0  1⎤\n",
       "⎢          ⎥\n",
       "⎢0  0  0  2⎥\n",
       "⎢          ⎥\n",
       "⎢0  0  0  3⎥\n",
       "⎢          ⎥\n",
       "⎣0  0  0  0⎦"
      ]
     },
     "execution_count": 11,
     "metadata": {},
     "output_type": "execute_result"
    }
   ],
   "source": [
    "# get se3(twist 4x4 matrix) from 6-vector spatial velocity, V\n",
    "se3 = smr.VecTose3(V)\n",
    "se3"
   ]
  },
  {
   "cell_type": "code",
   "execution_count": 12,
   "metadata": {},
   "outputs": [],
   "source": [
    "V = smr.se3ToVec(se3)"
   ]
  },
  {
   "cell_type": "code",
   "execution_count": 13,
   "metadata": {},
   "outputs": [
    {
     "data": {
      "text/latex": [
       "$\\displaystyle \\left( \\left[\\begin{matrix}0\\\\0\\\\0\\\\\\frac{\\sqrt{14}}{14}\\\\\\frac{\\sqrt{14}}{7}\\\\\\frac{3 \\sqrt{14}}{14}\\end{matrix}\\right], \\  \\sqrt{14}\\right)$"
      ],
      "text/plain": [
       "⎛⎡  0  ⎤     ⎞\n",
       "⎜⎢     ⎥     ⎟\n",
       "⎜⎢  0  ⎥     ⎟\n",
       "⎜⎢     ⎥     ⎟\n",
       "⎜⎢  0  ⎥     ⎟\n",
       "⎜⎢     ⎥     ⎟\n",
       "⎜⎢ √14 ⎥     ⎟\n",
       "⎜⎢ ─── ⎥     ⎟\n",
       "⎜⎢  14 ⎥, √14⎟\n",
       "⎜⎢     ⎥     ⎟\n",
       "⎜⎢ √14 ⎥     ⎟\n",
       "⎜⎢ ─── ⎥     ⎟\n",
       "⎜⎢  7  ⎥     ⎟\n",
       "⎜⎢     ⎥     ⎟\n",
       "⎜⎢3⋅√14⎥     ⎟\n",
       "⎜⎢─────⎥     ⎟\n",
       "⎝⎣  14 ⎦     ⎠"
      ]
     },
     "execution_count": 13,
     "metadata": {},
     "output_type": "execute_result"
    }
   ],
   "source": [
    "S, theta_dot = smr.AxisAng6(V)\n",
    "S, theta_dot"
   ]
  },
  {
   "cell_type": "code",
   "execution_count": 14,
   "metadata": {},
   "outputs": [
    {
     "data": {
      "text/latex": [
       "$\\displaystyle \\left( \\left[\\begin{matrix}0\\\\0\\\\0\\\\0.267261241912424\\\\0.534522483824849\\\\0.801783725737273\\end{matrix}\\right], \\  3.74165738677394\\right)$"
      ],
      "text/plain": [
       "⎛⎡        0        ⎤                  ⎞\n",
       "⎜⎢                 ⎥                  ⎟\n",
       "⎜⎢        0        ⎥                  ⎟\n",
       "⎜⎢                 ⎥                  ⎟\n",
       "⎜⎢        0        ⎥                  ⎟\n",
       "⎜⎢                 ⎥, 3.74165738677394⎟\n",
       "⎜⎢0.267261241912424⎥                  ⎟\n",
       "⎜⎢                 ⎥                  ⎟\n",
       "⎜⎢0.534522483824849⎥                  ⎟\n",
       "⎜⎢                 ⎥                  ⎟\n",
       "⎝⎣0.801783725737273⎦                  ⎠"
      ]
     },
     "execution_count": 14,
     "metadata": {},
     "output_type": "execute_result"
    }
   ],
   "source": [
    "S.evalf(), theta_dot.evalf()"
   ]
  },
  {
   "cell_type": "code",
   "execution_count": 15,
   "metadata": {},
   "outputs": [
    {
     "data": {
      "text/latex": [
       "$\\displaystyle \\left[\\begin{matrix}0\\\\0\\\\0\\\\1\\\\2\\\\3\\end{matrix}\\right]$"
      ],
      "text/plain": [
       "⎡0⎤\n",
       "⎢ ⎥\n",
       "⎢0⎥\n",
       "⎢ ⎥\n",
       "⎢0⎥\n",
       "⎢ ⎥\n",
       "⎢1⎥\n",
       "⎢ ⎥\n",
       "⎢2⎥\n",
       "⎢ ⎥\n",
       "⎣3⎦"
      ]
     },
     "execution_count": 15,
     "metadata": {},
     "output_type": "execute_result"
    }
   ],
   "source": [
    "# get 6-vector spatial velocity, V from se3(twist 4x4 matrix)\n",
    "V = smr.se3ToVec(se3)\n",
    "V"
   ]
  },
  {
   "cell_type": "code",
   "execution_count": 16,
   "metadata": {},
   "outputs": [
    {
     "data": {
      "text/latex": [
       "$\\displaystyle \\left[\\begin{matrix}1 & 0 & 0 & 1\\\\0 & 1 & 0 & 2\\\\0 & 0 & 1 & 3\\\\0 & 0 & 0 & 1\\end{matrix}\\right]$"
      ],
      "text/plain": [
       "⎡1  0  0  1⎤\n",
       "⎢          ⎥\n",
       "⎢0  1  0  2⎥\n",
       "⎢          ⎥\n",
       "⎢0  0  1  3⎥\n",
       "⎢          ⎥\n",
       "⎣0  0  0  1⎦"
      ]
     },
     "execution_count": 16,
     "metadata": {},
     "output_type": "execute_result"
    }
   ],
   "source": [
    "# get Homogeneous Transformation matrix T from se3(twist 4x4 matrix)\n",
    "T = smr.MatrixExp6(se3)\n",
    "T"
   ]
  },
  {
   "cell_type": "code",
   "execution_count": 17,
   "metadata": {},
   "outputs": [
    {
     "data": {
      "text/latex": [
       "$\\displaystyle \\left[\\begin{matrix}0 & 0 & 0 & 1\\\\0 & 0 & 0 & 2\\\\0 & 0 & 0 & 3\\\\0 & 0 & 0 & 0\\end{matrix}\\right]$"
      ],
      "text/plain": [
       "⎡0  0  0  1⎤\n",
       "⎢          ⎥\n",
       "⎢0  0  0  2⎥\n",
       "⎢          ⎥\n",
       "⎢0  0  0  3⎥\n",
       "⎢          ⎥\n",
       "⎣0  0  0  0⎦"
      ]
     },
     "execution_count": 17,
     "metadata": {},
     "output_type": "execute_result"
    }
   ],
   "source": [
    "# get se3(twist 4x4 matrix) from Homogeneous Transformation matrix, T\n",
    "se3 = smr.MatrixLog6(T)\n",
    "se3"
   ]
  },
  {
   "cell_type": "code",
   "execution_count": null,
   "metadata": {},
   "outputs": [],
   "source": []
  },
  {
   "cell_type": "code",
   "execution_count": null,
   "metadata": {},
   "outputs": [],
   "source": []
  },
  {
   "cell_type": "code",
   "execution_count": null,
   "metadata": {},
   "outputs": [],
   "source": []
  }
 ],
 "metadata": {
  "kernelspec": {
   "display_name": "Python 3",
   "language": "python",
   "name": "python3"
  },
  "language_info": {
   "codemirror_mode": {
    "name": "ipython",
    "version": 3
   },
   "file_extension": ".py",
   "mimetype": "text/x-python",
   "name": "python",
   "nbconvert_exporter": "python",
   "pygments_lexer": "ipython3",
   "version": "3.8.5"
  }
 },
 "nbformat": 4,
 "nbformat_minor": 4
}

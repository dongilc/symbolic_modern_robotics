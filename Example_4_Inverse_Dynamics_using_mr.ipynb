{
 "cells": [
  {
   "cell_type": "code",
   "execution_count": 1,
   "id": "pacific-packet",
   "metadata": {},
   "outputs": [],
   "source": [
    "import modern_robotics as mr\n",
    "import numpy as np"
   ]
  },
  {
   "cell_type": "code",
   "execution_count": 2,
   "id": "german-group",
   "metadata": {},
   "outputs": [
    {
     "data": {
      "text/plain": [
       "['Adjoint',\n",
       " 'AxisAng3',\n",
       " 'AxisAng6',\n",
       " 'CartesianTrajectory',\n",
       " 'ComputedTorque',\n",
       " 'CubicTimeScaling',\n",
       " 'DistanceToSE3',\n",
       " 'DistanceToSO3',\n",
       " 'EndEffectorForces',\n",
       " 'EulerStep',\n",
       " 'FKinBody',\n",
       " 'FKinSpace',\n",
       " 'ForwardDynamics',\n",
       " 'ForwardDynamicsTrajectory',\n",
       " 'GravityForces',\n",
       " 'IKinBody',\n",
       " 'IKinSpace',\n",
       " 'InverseDynamics',\n",
       " 'InverseDynamicsTrajectory',\n",
       " 'JacobianBody',\n",
       " 'JacobianSpace',\n",
       " 'JointTrajectory',\n",
       " 'MassMatrix',\n",
       " 'MatrixExp3',\n",
       " 'MatrixExp6',\n",
       " 'MatrixLog3',\n",
       " 'MatrixLog6',\n",
       " 'NearZero',\n",
       " 'Normalize',\n",
       " 'ProjectToSE3',\n",
       " 'ProjectToSO3',\n",
       " 'QuinticTimeScaling',\n",
       " 'RotInv',\n",
       " 'RpToTrans',\n",
       " 'ScrewToAxis',\n",
       " 'ScrewTrajectory',\n",
       " 'SimulateControl',\n",
       " 'TestIfSE3',\n",
       " 'TestIfSO3',\n",
       " 'TransInv',\n",
       " 'TransToRp',\n",
       " 'VecTose3',\n",
       " 'VecToso3',\n",
       " 'VelQuadraticForces',\n",
       " '__builtins__',\n",
       " '__cached__',\n",
       " '__doc__',\n",
       " '__file__',\n",
       " '__loader__',\n",
       " '__name__',\n",
       " '__package__',\n",
       " '__path__',\n",
       " '__spec__',\n",
       " '__version__',\n",
       " 'ad',\n",
       " 'core',\n",
       " 'np',\n",
       " 'print_function',\n",
       " 'se3ToVec',\n",
       " 'so3ToVec']"
      ]
     },
     "execution_count": 2,
     "metadata": {},
     "output_type": "execute_result"
    }
   ],
   "source": [
    "dir(mr)"
   ]
  },
  {
   "cell_type": "code",
   "execution_count": 3,
   "id": "sound-junior",
   "metadata": {},
   "outputs": [
    {
     "name": "stdout",
     "output_type": "stream",
     "text": [
      "Help on function InverseDynamics in module modern_robotics.core:\n",
      "\n",
      "InverseDynamics(thetalist, dthetalist, ddthetalist, g, Ftip, Mlist, Glist, Slist)\n",
      "    Computes inverse dynamics in the space frame for an open chain robot\n",
      "    \n",
      "    :param thetalist: n-vector of joint variables\n",
      "    :param dthetalist: n-vector of joint rates\n",
      "    :param ddthetalist: n-vector of joint accelerations\n",
      "    :param g: Gravity vector g\n",
      "    :param Ftip: Spatial force applied by the end-effector expressed in frame\n",
      "                 {n+1}\n",
      "    :param Mlist: List of link frames {i} relative to {i-1} at the home\n",
      "                  position\n",
      "    :param Glist: Spatial inertia matrices Gi of the links\n",
      "    :param Slist: Screw axes Si of the joints in a space frame, in the format\n",
      "                  of a matrix with axes as the columns\n",
      "    :return: The n-vector of required joint forces/torques\n",
      "    This function uses forward-backward Newton-Euler iterations to solve the\n",
      "    equation:\n",
      "    taulist = Mlist(thetalist)ddthetalist + c(thetalist,dthetalist)               + g(thetalist) + Jtr(thetalist)Ftip\n",
      "    \n",
      "    Example Input (3 Link Robot):\n",
      "        thetalist = np.array([0.1, 0.1, 0.1])\n",
      "        dthetalist = np.array([0.1, 0.2, 0.3])\n",
      "        ddthetalist = np.array([2, 1.5, 1])\n",
      "        g = np.array([0, 0, -9.8])\n",
      "        Ftip = np.array([1, 1, 1, 1, 1, 1])\n",
      "        M01 = np.array([[1, 0, 0,        0],\n",
      "                        [0, 1, 0,        0],\n",
      "                        [0, 0, 1, 0.089159],\n",
      "                        [0, 0, 0,        1]])\n",
      "        M12 = np.array([[ 0, 0, 1,    0.28],\n",
      "                        [ 0, 1, 0, 0.13585],\n",
      "                        [-1, 0, 0,       0],\n",
      "                        [ 0, 0, 0,       1]])\n",
      "        M23 = np.array([[1, 0, 0,       0],\n",
      "                        [0, 1, 0, -0.1197],\n",
      "                        [0, 0, 1,   0.395],\n",
      "                        [0, 0, 0,       1]])\n",
      "        M34 = np.array([[1, 0, 0,       0],\n",
      "                        [0, 1, 0,       0],\n",
      "                        [0, 0, 1, 0.14225],\n",
      "                        [0, 0, 0,       1]])\n",
      "        G1 = np.diag([0.010267, 0.010267, 0.00666, 3.7, 3.7, 3.7])\n",
      "        G2 = np.diag([0.22689, 0.22689, 0.0151074, 8.393, 8.393, 8.393])\n",
      "        G3 = np.diag([0.0494433, 0.0494433, 0.004095, 2.275, 2.275, 2.275])\n",
      "        Glist = np.array([G1, G2, G3])\n",
      "        Mlist = np.array([M01, M12, M23, M34])\n",
      "        Slist = np.array([[1, 0, 1,      0, 1,     0],\n",
      "                          [0, 1, 0, -0.089, 0,     0],\n",
      "                          [0, 1, 0, -0.089, 0, 0.425]]).T\n",
      "    Output:\n",
      "        np.array([74.69616155, -33.06766016, -3.23057314])\n",
      "\n"
     ]
    }
   ],
   "source": [
    "help(mr.InverseDynamics)"
   ]
  },
  {
   "cell_type": "code",
   "execution_count": 4,
   "id": "liked-starter",
   "metadata": {},
   "outputs": [],
   "source": [
    "thetalist = np.array([0.1, 0.1, 0.1])\n",
    "dthetalist = np.array([0.1, 0.2, 0.3])\n",
    "ddthetalist = np.array([2, 1.5, 1])\n",
    "\n",
    "g = np.array([0, 0, -9.8])\n",
    "\n",
    "Ftip = np.array([1, 1, 1, 1, 1, 1])\n",
    "\n",
    "M01 = np.array([[1, 0, 0,        0],\n",
    "                [0, 1, 0,        0],\n",
    "                [0, 0, 1, 0.089159],\n",
    "                [0, 0, 0,        1]])\n",
    "M12 = np.array([[ 0, 0, 1,    0.28],\n",
    "                [ 0, 1, 0, 0.13585],\n",
    "                [-1, 0, 0,       0],\n",
    "                [ 0, 0, 0,       1]])\n",
    "M23 = np.array([[1, 0, 0,       0],\n",
    "                [0, 1, 0, -0.1197],\n",
    "                [0, 0, 1,   0.395],\n",
    "                [0, 0, 0,       1]])\n",
    "M34 = np.array([[1, 0, 0,       0],\n",
    "                [0, 1, 0,       0],\n",
    "                [0, 0, 1, 0.14225],\n",
    "                [0, 0, 0,       1]])\n",
    "\n",
    "G1 = np.diag([0.010267, 0.010267, 0.00666, 3.7, 3.7, 3.7])\n",
    "G2 = np.diag([0.22689, 0.22689, 0.0151074, 8.393, 8.393, 8.393])\n",
    "G3 = np.diag([0.0494433, 0.0494433, 0.004095, 2.275, 2.275, 2.275])\n",
    "\n",
    "Glist = np.array([G1, G2, G3])\n",
    "Mlist = np.array([M01, M12, M23, M34])\n",
    "Slist = np.array([[1, 0, 1,      0, 1,     0],\n",
    "                  [0, 1, 0, -0.089, 0,     0],\n",
    "                  [0, 1, 0, -0.089, 0, 0.425]]).T"
   ]
  },
  {
   "cell_type": "code",
   "execution_count": 6,
   "id": "widespread-contamination",
   "metadata": {},
   "outputs": [
    {
     "data": {
      "text/plain": [
       "array([ 74.69616155, -33.06766016,  -3.23057314])"
      ]
     },
     "execution_count": 6,
     "metadata": {},
     "output_type": "execute_result"
    }
   ],
   "source": [
    "mr.InverseDynamics(thetalist, dthetalist, ddthetalist, g, Ftip, Mlist, Glist, Slist)"
   ]
  },
  {
   "cell_type": "code",
   "execution_count": null,
   "id": "enormous-accreditation",
   "metadata": {},
   "outputs": [],
   "source": []
  }
 ],
 "metadata": {
  "kernelspec": {
   "display_name": "Python 3",
   "language": "python",
   "name": "python3"
  },
  "language_info": {
   "codemirror_mode": {
    "name": "ipython",
    "version": 3
   },
   "file_extension": ".py",
   "mimetype": "text/x-python",
   "name": "python",
   "nbconvert_exporter": "python",
   "pygments_lexer": "ipython3",
   "version": "3.8.3"
  }
 },
 "nbformat": 4,
 "nbformat_minor": 5
}

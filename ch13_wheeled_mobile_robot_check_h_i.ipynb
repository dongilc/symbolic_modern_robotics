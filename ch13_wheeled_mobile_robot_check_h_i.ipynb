{
 "cells": [
  {
   "cell_type": "code",
   "execution_count": 52,
   "metadata": {},
   "outputs": [],
   "source": [
    "import sympy as s"
   ]
  },
  {
   "cell_type": "code",
   "execution_count": 53,
   "metadata": {},
   "outputs": [],
   "source": [
    "phi,x,y = s.symbols('phi,x,y')\n",
    "phi_d,x_d,y_d = s.symbols('phi_d,x_d,y_d')\n",
    "x_i,y_i,beta_i,gamma_i,r_i = s.symbols('x_i,y_i,beta_i,gamma_i,r_i')\n",
    "q_d = s.symbols('q_d')"
   ]
  },
  {
   "cell_type": "code",
   "execution_count": 54,
   "metadata": {},
   "outputs": [
    {
     "data": {
      "text/latex": [
       "$\\displaystyle \\left[\\begin{matrix}\\phi_{d}\\\\x_{d}\\\\y_{d}\\end{matrix}\\right]$"
      ],
      "text/plain": [
       "Matrix([\n",
       "[phi_d],\n",
       "[  x_d],\n",
       "[  y_d]])"
      ]
     },
     "execution_count": 54,
     "metadata": {},
     "output_type": "execute_result"
    }
   ],
   "source": [
    "q_d = s.Matrix([[phi_d],[x_d],[y_d]])\n",
    "q_d"
   ]
  },
  {
   "cell_type": "code",
   "execution_count": 55,
   "metadata": {},
   "outputs": [
    {
     "data": {
      "text/latex": [
       "$\\displaystyle \\left[\\begin{matrix}1 & 0 & 0\\\\0 & \\cos{\\left(\\phi \\right)} & \\sin{\\left(\\phi \\right)}\\\\0 & - \\sin{\\left(\\phi \\right)} & \\cos{\\left(\\phi \\right)}\\end{matrix}\\right]$"
      ],
      "text/plain": [
       "Matrix([\n",
       "[1,         0,        0],\n",
       "[0,  cos(phi), sin(phi)],\n",
       "[0, -sin(phi), cos(phi)]])"
      ]
     },
     "execution_count": 55,
     "metadata": {},
     "output_type": "execute_result"
    }
   ],
   "source": [
    "first_trans = s.Matrix([[1,0,0],\n",
    "                        [0,s.cos(phi),s.sin(phi)],\n",
    "                        [0,-s.sin(phi),s.cos(phi)]])\n",
    "first_trans"
   ]
  },
  {
   "cell_type": "code",
   "execution_count": 56,
   "metadata": {},
   "outputs": [
    {
     "data": {
      "text/latex": [
       "$\\displaystyle \\left[\\begin{matrix}- y_{i} & 1 & 0\\\\x_{i} & 0 & 1\\end{matrix}\\right]$"
      ],
      "text/plain": [
       "Matrix([\n",
       "[-y_i, 1, 0],\n",
       "[ x_i, 0, 1]])"
      ]
     },
     "execution_count": 56,
     "metadata": {},
     "output_type": "execute_result"
    }
   ],
   "source": [
    "second_trans = s.Matrix([[-y_i,1,0],\n",
    "                         [x_i,0,1]])\n",
    "second_trans"
   ]
  },
  {
   "cell_type": "code",
   "execution_count": 57,
   "metadata": {},
   "outputs": [
    {
     "data": {
      "text/latex": [
       "$\\displaystyle \\left[\\begin{matrix}\\cos{\\left(\\beta_{i} \\right)} & \\sin{\\left(\\beta_{i} \\right)}\\\\- \\sin{\\left(\\beta_{i} \\right)} & \\cos{\\left(\\beta_{i} \\right)}\\end{matrix}\\right]$"
      ],
      "text/plain": [
       "Matrix([\n",
       "[ cos(beta_i), sin(beta_i)],\n",
       "[-sin(beta_i), cos(beta_i)]])"
      ]
     },
     "execution_count": 57,
     "metadata": {},
     "output_type": "execute_result"
    }
   ],
   "source": [
    "third_trans = s.Matrix([[s.cos(beta_i),s.sin(beta_i)],\n",
    "                        [-s.sin(beta_i),s.cos(beta_i)]])\n",
    "third_trans"
   ]
  },
  {
   "cell_type": "code",
   "execution_count": 58,
   "metadata": {},
   "outputs": [
    {
     "data": {
      "text/latex": [
       "$\\displaystyle \\left[\\begin{matrix}\\frac{1}{r_{i}} & \\frac{\\tan{\\left(\\gamma_{i} \\right)}}{r_{i}}\\end{matrix}\\right]$"
      ],
      "text/plain": [
       "Matrix([[1/r_i, tan(gamma_i)/r_i]])"
      ]
     },
     "execution_count": 58,
     "metadata": {},
     "output_type": "execute_result"
    }
   ],
   "source": [
    "fourth_trans = s.Matrix([[1/r_i,s.tan(gamma_i)/r_i]])\n",
    "fourth_trans"
   ]
  },
  {
   "cell_type": "code",
   "execution_count": 66,
   "metadata": {},
   "outputs": [
    {
     "data": {
      "text/latex": [
       "$\\displaystyle \\left[\\begin{matrix}x_{i} \\left(\\frac{\\sin{\\left(\\beta_{i} \\right)}}{r_{i}} + \\frac{\\cos{\\left(\\beta_{i} \\right)} \\tan{\\left(\\gamma_{i} \\right)}}{r_{i}}\\right) - y_{i} \\left(- \\frac{\\sin{\\left(\\beta_{i} \\right)} \\tan{\\left(\\gamma_{i} \\right)}}{r_{i}} + \\frac{\\cos{\\left(\\beta_{i} \\right)}}{r_{i}}\\right) & - \\left(\\frac{\\sin{\\left(\\beta_{i} \\right)}}{r_{i}} + \\frac{\\cos{\\left(\\beta_{i} \\right)} \\tan{\\left(\\gamma_{i} \\right)}}{r_{i}}\\right) \\sin{\\left(\\phi \\right)} + \\left(- \\frac{\\sin{\\left(\\beta_{i} \\right)} \\tan{\\left(\\gamma_{i} \\right)}}{r_{i}} + \\frac{\\cos{\\left(\\beta_{i} \\right)}}{r_{i}}\\right) \\cos{\\left(\\phi \\right)} & \\left(\\frac{\\sin{\\left(\\beta_{i} \\right)}}{r_{i}} + \\frac{\\cos{\\left(\\beta_{i} \\right)} \\tan{\\left(\\gamma_{i} \\right)}}{r_{i}}\\right) \\cos{\\left(\\phi \\right)} + \\left(- \\frac{\\sin{\\left(\\beta_{i} \\right)} \\tan{\\left(\\gamma_{i} \\right)}}{r_{i}} + \\frac{\\cos{\\left(\\beta_{i} \\right)}}{r_{i}}\\right) \\sin{\\left(\\phi \\right)}\\end{matrix}\\right]$"
      ],
      "text/plain": [
       "Matrix([[x_i*(sin(beta_i)/r_i + cos(beta_i)*tan(gamma_i)/r_i) - y_i*(-sin(beta_i)*tan(gamma_i)/r_i + cos(beta_i)/r_i), -(sin(beta_i)/r_i + cos(beta_i)*tan(gamma_i)/r_i)*sin(phi) + (-sin(beta_i)*tan(gamma_i)/r_i + cos(beta_i)/r_i)*cos(phi), (sin(beta_i)/r_i + cos(beta_i)*tan(gamma_i)/r_i)*cos(phi) + (-sin(beta_i)*tan(gamma_i)/r_i + cos(beta_i)/r_i)*sin(phi)]])"
      ]
     },
     "execution_count": 66,
     "metadata": {},
     "output_type": "execute_result"
    }
   ],
   "source": [
    "trans = fourth_trans@third_trans@second_trans@first_trans\n",
    "trans"
   ]
  },
  {
   "cell_type": "code",
   "execution_count": 67,
   "metadata": {},
   "outputs": [
    {
     "data": {
      "text/latex": [
       "$\\displaystyle \\left[\\begin{matrix}\\frac{x_{i} \\left(\\sin{\\left(\\beta_{i} \\right)} + \\cos{\\left(\\beta_{i} \\right)} \\tan{\\left(\\gamma_{i} \\right)}\\right) + y_{i} \\left(\\sin{\\left(\\beta_{i} \\right)} \\tan{\\left(\\gamma_{i} \\right)} - \\cos{\\left(\\beta_{i} \\right)}\\right)}{r_{i}} & \\frac{- \\sin{\\left(\\beta_{i} + \\phi \\right)} \\tan{\\left(\\gamma_{i} \\right)} + \\cos{\\left(\\beta_{i} + \\phi \\right)}}{r_{i}} & \\frac{\\sin{\\left(\\beta_{i} + \\phi \\right)} + \\cos{\\left(\\beta_{i} + \\phi \\right)} \\tan{\\left(\\gamma_{i} \\right)}}{r_{i}}\\end{matrix}\\right]$"
      ],
      "text/plain": [
       "Matrix([[(x_i*(sin(beta_i) + cos(beta_i)*tan(gamma_i)) + y_i*(sin(beta_i)*tan(gamma_i) - cos(beta_i)))/r_i, (-sin(beta_i + phi)*tan(gamma_i) + cos(beta_i + phi))/r_i, (sin(beta_i + phi) + cos(beta_i + phi)*tan(gamma_i))/r_i]])"
      ]
     },
     "execution_count": 67,
     "metadata": {},
     "output_type": "execute_result"
    }
   ],
   "source": [
    "s.simplify(trans)"
   ]
  },
  {
   "cell_type": "code",
   "execution_count": 70,
   "metadata": {},
   "outputs": [
    {
     "data": {
      "text/latex": [
       "$\\displaystyle \\left[\\begin{matrix}x_{i} \\sin{\\left(\\beta_{i} + \\gamma_{i} \\right)} - y_{i} \\cos{\\left(\\beta_{i} + \\gamma_{i} \\right)}\\\\\\cos{\\left(\\beta_{i} + \\gamma_{i} + \\phi \\right)}\\\\\\sin{\\left(\\beta_{i} + \\gamma_{i} + \\phi \\right)}\\end{matrix}\\right]$"
      ],
      "text/plain": [
       "Matrix([\n",
       "[x_i*sin(beta_i + gamma_i) - y_i*cos(beta_i + gamma_i)],\n",
       "[                          cos(beta_i + gamma_i + phi)],\n",
       "[                          sin(beta_i + gamma_i + phi)]])"
      ]
     },
     "execution_count": 70,
     "metadata": {},
     "output_type": "execute_result"
    }
   ],
   "source": [
    "s.simplify(trans*(r_i*s.cos(gamma_i))).T"
   ]
  },
  {
   "cell_type": "code",
   "execution_count": null,
   "metadata": {},
   "outputs": [],
   "source": []
  }
 ],
 "metadata": {
  "kernelspec": {
   "display_name": "Python 3",
   "language": "python",
   "name": "python3"
  },
  "language_info": {
   "codemirror_mode": {
    "name": "ipython",
    "version": 3
   },
   "file_extension": ".py",
   "mimetype": "text/x-python",
   "name": "python",
   "nbconvert_exporter": "python",
   "pygments_lexer": "ipython3",
   "version": "3.8.5"
  }
 },
 "nbformat": 4,
 "nbformat_minor": 4
}
